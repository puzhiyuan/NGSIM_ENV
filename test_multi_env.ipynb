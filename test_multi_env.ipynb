{
 "cells": [
  {
   "cell_type": "code",
   "execution_count": null,
   "metadata": {},
   "outputs": [],
   "source": [
    "import os\n",
    "os.environ['KMP_DUPLICATE_LIB_OK']='TRUE'\n",
    "\n",
    "import warnings\n",
    "# 忽略所有的 featurewarnings\n",
    "warnings.filterwarnings(\"ignore\", category=FutureWarning)"
   ]
  },
  {
   "cell_type": "code",
   "execution_count": null,
   "metadata": {},
   "outputs": [],
   "source": [
    "from stable_baselines3 import PPO\n",
    "from stable_baselines3.common.vec_env import SubprocVecEnv\n",
    "import torch\n",
    "\n",
    "env_case_ids = [6, 13, 2617, 148, 809]\n",
    "envs = SubprocVecEnv(\n",
    "    [\n",
    "        lambda: torch.load(\"./temp_envs/env_{}\".format(case_id), weights_only=False)\n",
    "        for case_id in env_case_ids\n",
    "    ]\n",
    ")\n",
    "obs = envs.reset()\n",
    "print(f\"obs shape: {obs.shape}\")\n",
    "\n",
    "# envs = RecordVideo(envs, \"./videos\", episode_trigger=lambda e: True)\n",
    "\n",
    "model = PPO.load(r\"./models/multi/PPO_20250327011246.zip\")\n",
    "obs, info = envs.reset()\n",
    "for _ in range(1000):\n",
    "    actions, _ = model.predict(obs)\n",
    "    print(f\"actions: {actions}\")\n",
    "    obs, reward, terminal, truncated, info = envs.step(actions)\n",
    "    envs.render()\n",
    "    print(f\"info: {info}\")\n",
    "    if info[\"crashed\"] or info[\"offroad\"]:\n",
    "        print(f\"crashed: {info['crashed']}, offroad: {info['offroad']}\")\n",
    "        break\n",
    "\n",
    "    \n",
    "envs.close()"
   ]
  }
 ],
 "metadata": {
  "kernelspec": {
   "display_name": "way",
   "language": "python",
   "name": "python3"
  },
  "language_info": {
   "codemirror_mode": {
    "name": "ipython",
    "version": 3
   },
   "file_extension": ".py",
   "mimetype": "text/x-python",
   "name": "python",
   "nbconvert_exporter": "python",
   "pygments_lexer": "ipython3",
   "version": "3.9.21"
  }
 },
 "nbformat": 4,
 "nbformat_minor": 2
}
