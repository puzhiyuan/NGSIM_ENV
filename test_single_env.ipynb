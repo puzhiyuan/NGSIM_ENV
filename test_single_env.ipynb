{
 "cells": [
  {
   "cell_type": "code",
   "execution_count": 1,
   "metadata": {},
   "outputs": [],
   "source": [
    "import os\n",
    "os.environ['KMP_DUPLICATE_LIB_OK']='TRUE'\n",
    "\n",
    "import warnings\n",
    "# 忽略所有的 featurewarnings\n",
    "warnings.filterwarnings(\"ignore\", category=FutureWarning)"
   ]
  },
  {
   "cell_type": "code",
   "execution_count": null,
   "metadata": {},
   "outputs": [
    {
     "name": "stderr",
     "output_type": "stream",
     "text": [
      "d:\\anaconda3\\envs\\way\\lib\\site-packages\\gymnasium\\wrappers\\rendering.py:283: UserWarning: \u001b[33mWARN: Overwriting existing videos at c:\\Users\\puzhiyuan\\Desktop\\workspace\\project\\Driving-IRL-NGSIM_new\\videos folder (try specifying a different `video_folder` for the `RecordVideo` wrapper if this is not desired)\u001b[0m\n",
      "  logger.warn(\n"
     ]
    },
    {
     "name": "stdout",
     "output_type": "stream",
     "text": [
      "speed_reward: 87.15643435274167, movement_bonus: 10, collision_penalty: -1000, human_likeness_reward: 8.37725937034183, sum: -894.46630627691655"
     ]
    }
   ],
   "source": [
    "from stable_baselines3 import PPO, DQN\n",
    "from stable_baselines3.common.vec_env import SubprocVecEnv\n",
    "from gymnasium.wrappers import RecordVideo\n",
    "import torch\n",
    "\n",
    "case_id = 6\n",
    "env = torch.load(\"./temp_envs/env_{}\".format(case_id), weights_only=False)\n",
    "obs = env.reset()\n",
    "\n",
    "env = RecordVideo(env, \"./videos\", episode_trigger=lambda e: True)\n",
    "env.unwrapped.config[\"simulation_frequency\"] = 10  # Higher FPS for rendering\n",
    "env.unwrapped.set_record_video_wrapper(env)\n",
    "\n",
    "model = DQN.load(r\"models\\single\\DQN_20250327133959.zip\")\n",
    "obs, info = env.reset()\n",
    "\n",
    "for videos in range(10):\n",
    "    done = truncated = False\n",
    "    obs, info = env.reset()\n",
    "    while not (done or truncated):\n",
    "        # Predict\n",
    "        action, _states = model.predict(obs, deterministic=True)\n",
    "        print(f\"action: {action // 10, action % 10}\")\n",
    "        # Get reward\n",
    "        obs, reward, done, truncated, info = env.step(action)\n",
    "        # Render\n",
    "        env.render()\n",
    "env.close()\n"
   ]
  }
 ],
 "metadata": {
  "kernelspec": {
   "display_name": "way",
   "language": "python",
   "name": "python3"
  },
  "language_info": {
   "codemirror_mode": {
    "name": "ipython",
    "version": 3
   },
   "file_extension": ".py",
   "mimetype": "text/x-python",
   "name": "python",
   "nbconvert_exporter": "python",
   "pygments_lexer": "ipython3",
   "version": "3.9.21"
  }
 },
 "nbformat": 4,
 "nbformat_minor": 2
}
